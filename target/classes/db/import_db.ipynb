{
 "cells": [
  {
   "cell_type": "code",
   "execution_count": 1,
   "id": "5ff57734",
   "metadata": {},
   "outputs": [],
   "source": [
    "import sqlite3\n",
    "import pandas as pd"
   ]
  },
  {
   "cell_type": "code",
   "execution_count": 2,
   "id": "d2303d99",
   "metadata": {},
   "outputs": [],
   "source": [
    "# --- Config ---\n",
    "CSV_FILE = r\"D:\\CNTT_Shared\\OOP\\OOP_Summer_2025_Project\\src\\main\\resources\\db\\Books.csv\"  # path to your CSV file\n",
    "DB_FILE = r\"D:\\CNTT_Shared\\OOP\\OOP_Summer_2025_Project\\src\\main\\resources\\db\\library_new.db\"  # your SQLite file"
   ]
  },
  {
   "cell_type": "code",
   "execution_count": 3,
   "id": "1a48a3e8",
   "metadata": {},
   "outputs": [
    {
     "name": "stderr",
     "output_type": "stream",
     "text": [
      "C:\\Users\\HLC\\AppData\\Local\\Temp\\ipykernel_19952\\3112567127.py:2: DtypeWarning: Columns (3) have mixed types. Specify dtype option on import or set low_memory=False.\n",
      "  df = pd.read_csv(CSV_FILE)\n"
     ]
    },
    {
     "name": "stdout",
     "output_type": "stream",
     "text": [
      "✅ Books imported successfully!\n"
     ]
    }
   ],
   "source": [
    "# --- Load CSV ---\n",
    "df = pd.read_csv(CSV_FILE)\n",
    "\n",
    "# Normalize column names (in case of weird spacing)\n",
    "df.columns = [col.strip() for col in df.columns]\n",
    "\n",
    "# --- Connect to SQLite ---\n",
    "conn = sqlite3.connect(DB_FILE)\n",
    "cursor = conn.cursor()\n",
    "\n",
    "# --- Create table if not exists ---\n",
    "cursor.execute(\"\"\"\n",
    "CREATE TABLE IF NOT EXISTS books (\n",
    "    bookId TEXT PRIMARY KEY,\n",
    "    isbn TEXT,\n",
    "    book_title TEXT NOT NULL,\n",
    "    book_author TEXT NOT NULL,\n",
    "    year_of_publication INTEGER,\n",
    "    publisher TEXT,\n",
    "    borrowCount INTEGER DEFAULT 0,\n",
    "    image_url_s TEXT,\n",
    "    image_url_m TEXT,\n",
    "    image_url_l TEXT\n",
    ")\n",
    "\"\"\")\n",
    "\n",
    "# --- Insert Data ---\n",
    "for _, row in df.iterrows():\n",
    "    bookId = f\"{row['ISBN']}-{row['Year-Of-Publication']}\"  # composite key\n",
    "    \n",
    "    cursor.execute(\"\"\"\n",
    "        INSERT OR IGNORE INTO books (\n",
    "            bookId, isbn, book_title, book_author, year_of_publication, \n",
    "            publisher, image_url_s, image_url_m, image_url_l\n",
    "        ) VALUES (?, ?, ?, ?, ?, ?, ?, ?, ?)\n",
    "    \"\"\", (\n",
    "        bookId,\n",
    "        row['ISBN'],\n",
    "        row['Book-Title'],\n",
    "        row['Book-Author'],\n",
    "        row['Year-Of-Publication'],\n",
    "        row['Publisher'],\n",
    "        row['Image-URL-S'],\n",
    "        row['Image-URL-M'],\n",
    "        row['Image-URL-L']\n",
    "    ))\n",
    "\n",
    "# --- Commit & Close ---\n",
    "conn.commit()\n",
    "conn.close()\n",
    "\n",
    "print(\"✅ Books imported successfully!\")"
   ]
  },
  {
   "cell_type": "code",
   "execution_count": 7,
   "id": "2c22a619",
   "metadata": {},
   "outputs": [
    {
     "name": "stdout",
     "output_type": "stream",
     "text": [
      "            bookId        isbn  \\\n",
      "0  0195153448-2002  0195153448   \n",
      "1  0002005018-2001  0002005018   \n",
      "2  0060973129-1991  0060973129   \n",
      "3  0374157065-1999  0374157065   \n",
      "4  0393045218-1999  0393045218   \n",
      "5  0399135782-1991  0399135782   \n",
      "6  0425176428-2000  0425176428   \n",
      "7  0671870432-1993  0671870432   \n",
      "8  0679425608-1996  0679425608   \n",
      "9  074322678X-2002  074322678X   \n",
      "\n",
      "                                          book_title           book_author  \\\n",
      "0                                Classical Mythology    Mark P. O. Morford   \n",
      "1                                       Clara Callan  Richard Bruce Wright   \n",
      "2                               Decision in Normandy          Carlo D'Este   \n",
      "3  Flu: The Story of the Great Influenza Pandemic...      Gina Bari Kolata   \n",
      "4                             The Mummies of Urumchi       E. J. W. Barber   \n",
      "5                             The Kitchen God's Wife               Amy Tan   \n",
      "6  What If?: The World's Foremost Military Histor...         Robert Cowley   \n",
      "7                                    PLEADING GUILTY           Scott Turow   \n",
      "8  Under the Black Flag: The Romance and the Real...       David Cordingly   \n",
      "9            Where You'll Find Me: And Other Stories           Ann Beattie   \n",
      "\n",
      "   year_of_publication                   publisher genres  borrowCount  \\\n",
      "0                 2002     Oxford University Press   None            0   \n",
      "1                 2001       HarperFlamingo Canada   None            0   \n",
      "2                 1991             HarperPerennial   None            0   \n",
      "3                 1999        Farrar Straus Giroux   None            0   \n",
      "4                 1999  W. W. Norton &amp; Company   None            0   \n",
      "5                 1991            Putnam Pub Group   None            0   \n",
      "6                 2000    Berkley Publishing Group   None            0   \n",
      "7                 1993                  Audioworks   None            0   \n",
      "8                 1996                Random House   None            0   \n",
      "9                 2002                    Scribner   None            0   \n",
      "\n",
      "                                         image_url_s  \\\n",
      "0  http://images.amazon.com/images/P/0195153448.0...   \n",
      "1  http://images.amazon.com/images/P/0002005018.0...   \n",
      "2  http://images.amazon.com/images/P/0060973129.0...   \n",
      "3  http://images.amazon.com/images/P/0374157065.0...   \n",
      "4  http://images.amazon.com/images/P/0393045218.0...   \n",
      "5  http://images.amazon.com/images/P/0399135782.0...   \n",
      "6  http://images.amazon.com/images/P/0425176428.0...   \n",
      "7  http://images.amazon.com/images/P/0671870432.0...   \n",
      "8  http://images.amazon.com/images/P/0679425608.0...   \n",
      "9  http://images.amazon.com/images/P/074322678X.0...   \n",
      "\n",
      "                                         image_url_m  \\\n",
      "0  http://images.amazon.com/images/P/0195153448.0...   \n",
      "1  http://images.amazon.com/images/P/0002005018.0...   \n",
      "2  http://images.amazon.com/images/P/0060973129.0...   \n",
      "3  http://images.amazon.com/images/P/0374157065.0...   \n",
      "4  http://images.amazon.com/images/P/0393045218.0...   \n",
      "5  http://images.amazon.com/images/P/0399135782.0...   \n",
      "6  http://images.amazon.com/images/P/0425176428.0...   \n",
      "7  http://images.amazon.com/images/P/0671870432.0...   \n",
      "8  http://images.amazon.com/images/P/0679425608.0...   \n",
      "9  http://images.amazon.com/images/P/074322678X.0...   \n",
      "\n",
      "                                         image_url_l  \n",
      "0  http://images.amazon.com/images/P/0195153448.0...  \n",
      "1  http://images.amazon.com/images/P/0002005018.0...  \n",
      "2  http://images.amazon.com/images/P/0060973129.0...  \n",
      "3  http://images.amazon.com/images/P/0374157065.0...  \n",
      "4  http://images.amazon.com/images/P/0393045218.0...  \n",
      "5  http://images.amazon.com/images/P/0399135782.0...  \n",
      "6  http://images.amazon.com/images/P/0425176428.0...  \n",
      "7  http://images.amazon.com/images/P/0671870432.0...  \n",
      "8  http://images.amazon.com/images/P/0679425608.0...  \n",
      "9  http://images.amazon.com/images/P/074322678X.0...  \n"
     ]
    }
   ],
   "source": [
    "def query_rows(query, params=None):\n",
    "    \"\"\"\n",
    "    Run a query against SQLite and return results as a pandas DataFrame.\n",
    "    \"\"\"\n",
    "    conn = sqlite3.connect(DB_FILE)\n",
    "    try:\n",
    "        if params:\n",
    "            df = pd.read_sql_query(query, conn, params=params)\n",
    "        else:\n",
    "            df = pd.read_sql_query(query, conn)\n",
    "    finally:\n",
    "        conn.close()\n",
    "    return df\n",
    "\n",
    "\n",
    "sql = f\"SELECT * FROM books LIMIT 10\"\n",
    "result = query_rows(sql)\n",
    "\n",
    "print(result)\n"
   ]
  },
  {
   "cell_type": "code",
   "execution_count": 8,
   "id": "cc7e59d7",
   "metadata": {},
   "outputs": [],
   "source": [
    "conn.close()"
   ]
  }
 ],
 "metadata": {
  "kernelspec": {
   "display_name": "Python 3",
   "language": "python",
   "name": "python3"
  },
  "language_info": {
   "codemirror_mode": {
    "name": "ipython",
    "version": 3
   },
   "file_extension": ".py",
   "mimetype": "text/x-python",
   "name": "python",
   "nbconvert_exporter": "python",
   "pygments_lexer": "ipython3",
   "version": "3.13.1"
  }
 },
 "nbformat": 4,
 "nbformat_minor": 5
}
